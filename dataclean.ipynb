{
 "cells": [
  {
   "attachments": {},
   "cell_type": "markdown",
   "metadata": {},
   "source": [
    "## Part I : Unzip tripdata data(Jan-2022 to Dec 2022) and concat them into one csv file"
   ]
  },
  {
   "cell_type": "code",
   "execution_count": 53,
   "metadata": {},
   "outputs": [],
   "source": [
    "# Independencies\n",
    "import pandas as pd\n",
    "import zipfile\n",
    "import glob\n",
    "import os"
   ]
  },
  {
   "cell_type": "code",
   "execution_count": 54,
   "metadata": {},
   "outputs": [
    {
     "data": {
      "text/plain": [
       "['City_Officals_Long_lat.csv',\n",
       " 'Extract',\n",
       " 'JC-202201-citibike-tripdata.csv.zip',\n",
       " 'JC-202202-citibike-tripdata.csv.zip',\n",
       " 'JC-202203-citibike-tripdata.csv.zip',\n",
       " 'JC-202204-citibike-tripdata.csv.zip',\n",
       " 'JC-202205-citibike-tripdata.csv.zip',\n",
       " 'JC-202206-citibike-tripdata.csv.zip',\n",
       " 'JC-202207-citbike-tripdata.csv.zip',\n",
       " 'JC-202208-citibike-tripdata.csv.zip',\n",
       " 'JC-202209-citibike-tripdata.csv.zip',\n",
       " 'JC-202210-citibike-tripdata.csv.zip',\n",
       " 'JC-202211-citibike-tripdata.csv.zip',\n",
       " 'JC-202212-citibike-tripdata.csv.zip',\n",
       " 'tripdata_2022 - Copy.csv',\n",
       " 'tripdata_2022.csv',\n",
       " '__MACOSX']"
      ]
     },
     "execution_count": 54,
     "metadata": {},
     "output_type": "execute_result"
    }
   ],
   "source": [
    "filelist = os.listdir(\"./Resources/\")\n",
    "filelist"
   ]
  },
  {
   "cell_type": "code",
   "execution_count": 55,
   "metadata": {},
   "outputs": [
    {
     "name": "stdout",
     "output_type": "stream",
     "text": [
      "./Resources/JC-202201-citibike-tripdata.csv.zip\n",
      "./Resources/JC-202202-citibike-tripdata.csv.zip\n",
      "./Resources/JC-202203-citibike-tripdata.csv.zip\n",
      "./Resources/JC-202204-citibike-tripdata.csv.zip\n",
      "./Resources/JC-202205-citibike-tripdata.csv.zip\n",
      "./Resources/JC-202206-citibike-tripdata.csv.zip\n",
      "./Resources/JC-202207-citbike-tripdata.csv.zip\n",
      "./Resources/JC-202208-citibike-tripdata.csv.zip\n",
      "./Resources/JC-202209-citibike-tripdata.csv.zip\n",
      "./Resources/JC-202210-citibike-tripdata.csv.zip\n",
      "./Resources/JC-202211-citibike-tripdata.csv.zip\n",
      "./Resources/JC-202212-citibike-tripdata.csv.zip\n"
     ]
    }
   ],
   "source": [
    "# Unzip all the files \n",
    "for filename in filelist:\n",
    "    if \"zip\" in filename:\n",
    "        path = \"./Resources/\"+ filename\n",
    "        print(path)\n",
    "        with zipfile.ZipFile(path, 'r') as myzip:\n",
    "            myzip.extractall(\"./Resources/Extract\")\n",
    "    "
   ]
  },
  {
   "cell_type": "code",
   "execution_count": 56,
   "metadata": {},
   "outputs": [],
   "source": [
    "tripdata_2022 = pd.DataFrame()"
   ]
  },
  {
   "cell_type": "code",
   "execution_count": 57,
   "metadata": {},
   "outputs": [],
   "source": [
    "# Concat the twelve files into one csv file \n",
    "tripdata_2022 = pd.concat([pd.read_csv(file, header=0) for file in glob.glob('./Resources/Extract/*.csv')], ignore_index = True)\n"
   ]
  },
  {
   "cell_type": "code",
   "execution_count": 58,
   "metadata": {},
   "outputs": [
    {
     "data": {
      "text/html": [
       "<div>\n",
       "<style scoped>\n",
       "    .dataframe tbody tr th:only-of-type {\n",
       "        vertical-align: middle;\n",
       "    }\n",
       "\n",
       "    .dataframe tbody tr th {\n",
       "        vertical-align: top;\n",
       "    }\n",
       "\n",
       "    .dataframe thead th {\n",
       "        text-align: right;\n",
       "    }\n",
       "</style>\n",
       "<table border=\"1\" class=\"dataframe\">\n",
       "  <thead>\n",
       "    <tr style=\"text-align: right;\">\n",
       "      <th></th>\n",
       "      <th>ride_id</th>\n",
       "      <th>rideable_type</th>\n",
       "      <th>started_at</th>\n",
       "      <th>ended_at</th>\n",
       "      <th>start_station_name</th>\n",
       "      <th>start_station_id</th>\n",
       "      <th>end_station_name</th>\n",
       "      <th>end_station_id</th>\n",
       "      <th>start_lat</th>\n",
       "      <th>start_lng</th>\n",
       "      <th>end_lat</th>\n",
       "      <th>end_lng</th>\n",
       "      <th>member_casual</th>\n",
       "    </tr>\n",
       "  </thead>\n",
       "  <tbody>\n",
       "    <tr>\n",
       "      <th>0</th>\n",
       "      <td>CA5837152804D4B5</td>\n",
       "      <td>electric_bike</td>\n",
       "      <td>2022-01-26 18:50:39</td>\n",
       "      <td>2022-01-26 18:51:53</td>\n",
       "      <td>12 St &amp; Sinatra Dr N</td>\n",
       "      <td>HB201</td>\n",
       "      <td>12 St &amp; Sinatra Dr N</td>\n",
       "      <td>HB201</td>\n",
       "      <td>40.750604</td>\n",
       "      <td>-74.024020</td>\n",
       "      <td>40.750604</td>\n",
       "      <td>-74.024020</td>\n",
       "      <td>member</td>\n",
       "    </tr>\n",
       "    <tr>\n",
       "      <th>1</th>\n",
       "      <td>BA06A5E45B6601D2</td>\n",
       "      <td>classic_bike</td>\n",
       "      <td>2022-01-28 13:14:07</td>\n",
       "      <td>2022-01-28 13:20:23</td>\n",
       "      <td>Essex Light Rail</td>\n",
       "      <td>JC038</td>\n",
       "      <td>Essex Light Rail</td>\n",
       "      <td>JC038</td>\n",
       "      <td>40.712774</td>\n",
       "      <td>-74.036486</td>\n",
       "      <td>40.712774</td>\n",
       "      <td>-74.036486</td>\n",
       "      <td>member</td>\n",
       "    </tr>\n",
       "    <tr>\n",
       "      <th>2</th>\n",
       "      <td>7B6827D7B9508D93</td>\n",
       "      <td>classic_bike</td>\n",
       "      <td>2022-01-10 19:55:13</td>\n",
       "      <td>2022-01-10 20:00:37</td>\n",
       "      <td>Essex Light Rail</td>\n",
       "      <td>JC038</td>\n",
       "      <td>Essex Light Rail</td>\n",
       "      <td>JC038</td>\n",
       "      <td>40.712774</td>\n",
       "      <td>-74.036486</td>\n",
       "      <td>40.712774</td>\n",
       "      <td>-74.036486</td>\n",
       "      <td>member</td>\n",
       "    </tr>\n",
       "    <tr>\n",
       "      <th>3</th>\n",
       "      <td>6E5864EA6FCEC90D</td>\n",
       "      <td>electric_bike</td>\n",
       "      <td>2022-01-26 07:54:57</td>\n",
       "      <td>2022-01-26 07:55:22</td>\n",
       "      <td>12 St &amp; Sinatra Dr N</td>\n",
       "      <td>HB201</td>\n",
       "      <td>12 St &amp; Sinatra Dr N</td>\n",
       "      <td>HB201</td>\n",
       "      <td>40.750604</td>\n",
       "      <td>-74.024020</td>\n",
       "      <td>40.750604</td>\n",
       "      <td>-74.024020</td>\n",
       "      <td>member</td>\n",
       "    </tr>\n",
       "    <tr>\n",
       "      <th>4</th>\n",
       "      <td>E24954255BBDE32D</td>\n",
       "      <td>electric_bike</td>\n",
       "      <td>2022-01-13 18:44:46</td>\n",
       "      <td>2022-01-13 18:45:43</td>\n",
       "      <td>12 St &amp; Sinatra Dr N</td>\n",
       "      <td>HB201</td>\n",
       "      <td>12 St &amp; Sinatra Dr N</td>\n",
       "      <td>HB201</td>\n",
       "      <td>40.750604</td>\n",
       "      <td>-74.024020</td>\n",
       "      <td>40.750604</td>\n",
       "      <td>-74.024020</td>\n",
       "      <td>member</td>\n",
       "    </tr>\n",
       "  </tbody>\n",
       "</table>\n",
       "</div>"
      ],
      "text/plain": [
       "            ride_id  rideable_type           started_at             ended_at  \\\n",
       "0  CA5837152804D4B5  electric_bike  2022-01-26 18:50:39  2022-01-26 18:51:53   \n",
       "1  BA06A5E45B6601D2   classic_bike  2022-01-28 13:14:07  2022-01-28 13:20:23   \n",
       "2  7B6827D7B9508D93   classic_bike  2022-01-10 19:55:13  2022-01-10 20:00:37   \n",
       "3  6E5864EA6FCEC90D  electric_bike  2022-01-26 07:54:57  2022-01-26 07:55:22   \n",
       "4  E24954255BBDE32D  electric_bike  2022-01-13 18:44:46  2022-01-13 18:45:43   \n",
       "\n",
       "     start_station_name start_station_id      end_station_name end_station_id  \\\n",
       "0  12 St & Sinatra Dr N            HB201  12 St & Sinatra Dr N          HB201   \n",
       "1      Essex Light Rail            JC038      Essex Light Rail          JC038   \n",
       "2      Essex Light Rail            JC038      Essex Light Rail          JC038   \n",
       "3  12 St & Sinatra Dr N            HB201  12 St & Sinatra Dr N          HB201   \n",
       "4  12 St & Sinatra Dr N            HB201  12 St & Sinatra Dr N          HB201   \n",
       "\n",
       "   start_lat  start_lng    end_lat    end_lng member_casual  \n",
       "0  40.750604 -74.024020  40.750604 -74.024020        member  \n",
       "1  40.712774 -74.036486  40.712774 -74.036486        member  \n",
       "2  40.712774 -74.036486  40.712774 -74.036486        member  \n",
       "3  40.750604 -74.024020  40.750604 -74.024020        member  \n",
       "4  40.750604 -74.024020  40.750604 -74.024020        member  "
      ]
     },
     "execution_count": 58,
     "metadata": {},
     "output_type": "execute_result"
    }
   ],
   "source": [
    "tripdata_2022.head()"
   ]
  },
  {
   "cell_type": "code",
   "execution_count": 59,
   "metadata": {},
   "outputs": [
    {
     "data": {
      "text/html": [
       "<div>\n",
       "<style scoped>\n",
       "    .dataframe tbody tr th:only-of-type {\n",
       "        vertical-align: middle;\n",
       "    }\n",
       "\n",
       "    .dataframe tbody tr th {\n",
       "        vertical-align: top;\n",
       "    }\n",
       "\n",
       "    .dataframe thead th {\n",
       "        text-align: right;\n",
       "    }\n",
       "</style>\n",
       "<table border=\"1\" class=\"dataframe\">\n",
       "  <thead>\n",
       "    <tr style=\"text-align: right;\">\n",
       "      <th></th>\n",
       "      <th>ride_id</th>\n",
       "      <th>rideable_type</th>\n",
       "      <th>started_at</th>\n",
       "      <th>ended_at</th>\n",
       "      <th>start_station_name</th>\n",
       "      <th>start_station_id</th>\n",
       "      <th>end_station_name</th>\n",
       "      <th>end_station_id</th>\n",
       "      <th>start_lat</th>\n",
       "      <th>start_lng</th>\n",
       "      <th>end_lat</th>\n",
       "      <th>end_lng</th>\n",
       "      <th>member_casual</th>\n",
       "    </tr>\n",
       "  </thead>\n",
       "  <tbody>\n",
       "    <tr>\n",
       "      <th>895480</th>\n",
       "      <td>D438F1622839AC50</td>\n",
       "      <td>classic_bike</td>\n",
       "      <td>2022-12-06 15:43:38</td>\n",
       "      <td>2022-12-06 15:53:57</td>\n",
       "      <td>Dey St</td>\n",
       "      <td>JC065</td>\n",
       "      <td>Riverview Park</td>\n",
       "      <td>JC057</td>\n",
       "      <td>40.737828</td>\n",
       "      <td>-74.067083</td>\n",
       "      <td>40.744319</td>\n",
       "      <td>-74.043991</td>\n",
       "      <td>member</td>\n",
       "    </tr>\n",
       "    <tr>\n",
       "      <th>895481</th>\n",
       "      <td>747A63A8E782D171</td>\n",
       "      <td>electric_bike</td>\n",
       "      <td>2022-12-08 08:17:51</td>\n",
       "      <td>2022-12-08 08:23:33</td>\n",
       "      <td>9 St HBLR - Jackson St &amp; 8 St</td>\n",
       "      <td>HB305</td>\n",
       "      <td>City Hall - Washington St &amp; 1 St</td>\n",
       "      <td>HB105</td>\n",
       "      <td>40.747907</td>\n",
       "      <td>-74.038412</td>\n",
       "      <td>40.737360</td>\n",
       "      <td>-74.030970</td>\n",
       "      <td>casual</td>\n",
       "    </tr>\n",
       "    <tr>\n",
       "      <th>895482</th>\n",
       "      <td>AE090858CFDE6E82</td>\n",
       "      <td>electric_bike</td>\n",
       "      <td>2022-12-23 14:10:07</td>\n",
       "      <td>2022-12-23 14:14:18</td>\n",
       "      <td>Mama Johnson Field - 4 St &amp; Jackson St</td>\n",
       "      <td>HB404</td>\n",
       "      <td>City Hall - Washington St &amp; 1 St</td>\n",
       "      <td>HB105</td>\n",
       "      <td>40.743140</td>\n",
       "      <td>-74.040041</td>\n",
       "      <td>40.737360</td>\n",
       "      <td>-74.030970</td>\n",
       "      <td>member</td>\n",
       "    </tr>\n",
       "    <tr>\n",
       "      <th>895483</th>\n",
       "      <td>B3CC8E70AF4E259C</td>\n",
       "      <td>classic_bike</td>\n",
       "      <td>2022-12-02 04:43:25</td>\n",
       "      <td>2022-12-02 04:46:55</td>\n",
       "      <td>Mama Johnson Field - 4 St &amp; Jackson St</td>\n",
       "      <td>HB404</td>\n",
       "      <td>City Hall - Washington St &amp; 1 St</td>\n",
       "      <td>HB105</td>\n",
       "      <td>40.743135</td>\n",
       "      <td>-74.040080</td>\n",
       "      <td>40.737360</td>\n",
       "      <td>-74.030970</td>\n",
       "      <td>member</td>\n",
       "    </tr>\n",
       "    <tr>\n",
       "      <th>895484</th>\n",
       "      <td>176B601F21327350</td>\n",
       "      <td>classic_bike</td>\n",
       "      <td>2022-12-30 14:50:17</td>\n",
       "      <td>2022-12-30 14:55:37</td>\n",
       "      <td>14 St Ferry - 14 St &amp; Shipyard Ln</td>\n",
       "      <td>HB202</td>\n",
       "      <td>City Hall - Washington St &amp; 1 St</td>\n",
       "      <td>HB105</td>\n",
       "      <td>40.752747</td>\n",
       "      <td>-74.024035</td>\n",
       "      <td>40.737360</td>\n",
       "      <td>-74.030970</td>\n",
       "      <td>member</td>\n",
       "    </tr>\n",
       "  </tbody>\n",
       "</table>\n",
       "</div>"
      ],
      "text/plain": [
       "                 ride_id  rideable_type           started_at  \\\n",
       "895480  D438F1622839AC50   classic_bike  2022-12-06 15:43:38   \n",
       "895481  747A63A8E782D171  electric_bike  2022-12-08 08:17:51   \n",
       "895482  AE090858CFDE6E82  electric_bike  2022-12-23 14:10:07   \n",
       "895483  B3CC8E70AF4E259C   classic_bike  2022-12-02 04:43:25   \n",
       "895484  176B601F21327350   classic_bike  2022-12-30 14:50:17   \n",
       "\n",
       "                   ended_at                      start_station_name  \\\n",
       "895480  2022-12-06 15:53:57                                  Dey St   \n",
       "895481  2022-12-08 08:23:33           9 St HBLR - Jackson St & 8 St   \n",
       "895482  2022-12-23 14:14:18  Mama Johnson Field - 4 St & Jackson St   \n",
       "895483  2022-12-02 04:46:55  Mama Johnson Field - 4 St & Jackson St   \n",
       "895484  2022-12-30 14:55:37       14 St Ferry - 14 St & Shipyard Ln   \n",
       "\n",
       "       start_station_id                  end_station_name end_station_id  \\\n",
       "895480            JC065                    Riverview Park          JC057   \n",
       "895481            HB305  City Hall - Washington St & 1 St          HB105   \n",
       "895482            HB404  City Hall - Washington St & 1 St          HB105   \n",
       "895483            HB404  City Hall - Washington St & 1 St          HB105   \n",
       "895484            HB202  City Hall - Washington St & 1 St          HB105   \n",
       "\n",
       "        start_lat  start_lng    end_lat    end_lng member_casual  \n",
       "895480  40.737828 -74.067083  40.744319 -74.043991        member  \n",
       "895481  40.747907 -74.038412  40.737360 -74.030970        casual  \n",
       "895482  40.743140 -74.040041  40.737360 -74.030970        member  \n",
       "895483  40.743135 -74.040080  40.737360 -74.030970        member  \n",
       "895484  40.752747 -74.024035  40.737360 -74.030970        member  "
      ]
     },
     "execution_count": 59,
     "metadata": {},
     "output_type": "execute_result"
    }
   ],
   "source": [
    "tripdata_2022.tail()"
   ]
  },
  {
   "cell_type": "code",
   "execution_count": 60,
   "metadata": {},
   "outputs": [],
   "source": [
    "tripdata_2022.to_csv(\"./Resources/tripdata_2022.csv\",index=False)"
   ]
  },
  {
   "attachments": {},
   "cell_type": "markdown",
   "metadata": {},
   "source": [
    "## Part II : Store the data about start stations and end stations in a seperate files"
   ]
  },
  {
   "cell_type": "code",
   "execution_count": 61,
   "metadata": {},
   "outputs": [
    {
     "data": {
      "text/html": [
       "<div>\n",
       "<style scoped>\n",
       "    .dataframe tbody tr th:only-of-type {\n",
       "        vertical-align: middle;\n",
       "    }\n",
       "\n",
       "    .dataframe tbody tr th {\n",
       "        vertical-align: top;\n",
       "    }\n",
       "\n",
       "    .dataframe thead th {\n",
       "        text-align: right;\n",
       "    }\n",
       "</style>\n",
       "<table border=\"1\" class=\"dataframe\">\n",
       "  <thead>\n",
       "    <tr style=\"text-align: right;\">\n",
       "      <th></th>\n",
       "      <th>start_station_id</th>\n",
       "      <th>start_station_name</th>\n",
       "      <th>started_at</th>\n",
       "      <th>start_lat</th>\n",
       "      <th>start_lng</th>\n",
       "    </tr>\n",
       "  </thead>\n",
       "  <tbody>\n",
       "    <tr>\n",
       "      <th>0</th>\n",
       "      <td>HB201</td>\n",
       "      <td>12 St &amp; Sinatra Dr N</td>\n",
       "      <td>2022-01-26 18:50:39</td>\n",
       "      <td>40.750604</td>\n",
       "      <td>-74.024020</td>\n",
       "    </tr>\n",
       "    <tr>\n",
       "      <th>1</th>\n",
       "      <td>JC038</td>\n",
       "      <td>Essex Light Rail</td>\n",
       "      <td>2022-01-28 13:14:07</td>\n",
       "      <td>40.712774</td>\n",
       "      <td>-74.036486</td>\n",
       "    </tr>\n",
       "    <tr>\n",
       "      <th>2</th>\n",
       "      <td>JC038</td>\n",
       "      <td>Essex Light Rail</td>\n",
       "      <td>2022-01-10 19:55:13</td>\n",
       "      <td>40.712774</td>\n",
       "      <td>-74.036486</td>\n",
       "    </tr>\n",
       "    <tr>\n",
       "      <th>3</th>\n",
       "      <td>HB201</td>\n",
       "      <td>12 St &amp; Sinatra Dr N</td>\n",
       "      <td>2022-01-26 07:54:57</td>\n",
       "      <td>40.750604</td>\n",
       "      <td>-74.024020</td>\n",
       "    </tr>\n",
       "    <tr>\n",
       "      <th>4</th>\n",
       "      <td>HB201</td>\n",
       "      <td>12 St &amp; Sinatra Dr N</td>\n",
       "      <td>2022-01-13 18:44:46</td>\n",
       "      <td>40.750604</td>\n",
       "      <td>-74.024020</td>\n",
       "    </tr>\n",
       "  </tbody>\n",
       "</table>\n",
       "</div>"
      ],
      "text/plain": [
       "  start_station_id    start_station_name           started_at  start_lat  \\\n",
       "0            HB201  12 St & Sinatra Dr N  2022-01-26 18:50:39  40.750604   \n",
       "1            JC038      Essex Light Rail  2022-01-28 13:14:07  40.712774   \n",
       "2            JC038      Essex Light Rail  2022-01-10 19:55:13  40.712774   \n",
       "3            HB201  12 St & Sinatra Dr N  2022-01-26 07:54:57  40.750604   \n",
       "4            HB201  12 St & Sinatra Dr N  2022-01-13 18:44:46  40.750604   \n",
       "\n",
       "   start_lng  \n",
       "0 -74.024020  \n",
       "1 -74.036486  \n",
       "2 -74.036486  \n",
       "3 -74.024020  \n",
       "4 -74.024020  "
      ]
     },
     "execution_count": 61,
     "metadata": {},
     "output_type": "execute_result"
    }
   ],
   "source": [
    "# Create a dataframe to store start station infomation\n",
    "Loglat_df= tripdata_2022[['start_station_id',\"start_station_name\",'started_at','start_lat',\"start_lng\"]]\n",
    "Loglat_df=Loglat_df.rename(columns={'start station id':\"station id\",'starttime':\"time\",\"start station name\":\"Station Name\",'start station latitude':\"Station Lat\",\"start station longitude\":\"Station lon\"})\n",
    "Loglat_df.head()"
   ]
  },
  {
   "cell_type": "code",
   "execution_count": 62,
   "metadata": {},
   "outputs": [
    {
     "data": {
      "text/plain": [
       "895485"
      ]
     },
     "execution_count": 62,
     "metadata": {},
     "output_type": "execute_result"
    }
   ],
   "source": [
    "len(Loglat_df)"
   ]
  },
  {
   "cell_type": "code",
   "execution_count": 63,
   "metadata": {},
   "outputs": [
    {
     "data": {
      "text/html": [
       "<div>\n",
       "<style scoped>\n",
       "    .dataframe tbody tr th:only-of-type {\n",
       "        vertical-align: middle;\n",
       "    }\n",
       "\n",
       "    .dataframe tbody tr th {\n",
       "        vertical-align: top;\n",
       "    }\n",
       "\n",
       "    .dataframe thead th {\n",
       "        text-align: right;\n",
       "    }\n",
       "</style>\n",
       "<table border=\"1\" class=\"dataframe\">\n",
       "  <thead>\n",
       "    <tr style=\"text-align: right;\">\n",
       "      <th></th>\n",
       "      <th>end_station_id</th>\n",
       "      <th>end_station_name</th>\n",
       "      <th>ended_at</th>\n",
       "      <th>end_lat</th>\n",
       "      <th>end_lng</th>\n",
       "    </tr>\n",
       "  </thead>\n",
       "  <tbody>\n",
       "    <tr>\n",
       "      <th>0</th>\n",
       "      <td>HB201</td>\n",
       "      <td>12 St &amp; Sinatra Dr N</td>\n",
       "      <td>2022-01-26 18:51:53</td>\n",
       "      <td>40.750604</td>\n",
       "      <td>-74.024020</td>\n",
       "    </tr>\n",
       "    <tr>\n",
       "      <th>1</th>\n",
       "      <td>JC038</td>\n",
       "      <td>Essex Light Rail</td>\n",
       "      <td>2022-01-28 13:20:23</td>\n",
       "      <td>40.712774</td>\n",
       "      <td>-74.036486</td>\n",
       "    </tr>\n",
       "    <tr>\n",
       "      <th>2</th>\n",
       "      <td>JC038</td>\n",
       "      <td>Essex Light Rail</td>\n",
       "      <td>2022-01-10 20:00:37</td>\n",
       "      <td>40.712774</td>\n",
       "      <td>-74.036486</td>\n",
       "    </tr>\n",
       "    <tr>\n",
       "      <th>3</th>\n",
       "      <td>HB201</td>\n",
       "      <td>12 St &amp; Sinatra Dr N</td>\n",
       "      <td>2022-01-26 07:55:22</td>\n",
       "      <td>40.750604</td>\n",
       "      <td>-74.024020</td>\n",
       "    </tr>\n",
       "    <tr>\n",
       "      <th>4</th>\n",
       "      <td>HB201</td>\n",
       "      <td>12 St &amp; Sinatra Dr N</td>\n",
       "      <td>2022-01-13 18:45:43</td>\n",
       "      <td>40.750604</td>\n",
       "      <td>-74.024020</td>\n",
       "    </tr>\n",
       "  </tbody>\n",
       "</table>\n",
       "</div>"
      ],
      "text/plain": [
       "  end_station_id      end_station_name             ended_at    end_lat  \\\n",
       "0          HB201  12 St & Sinatra Dr N  2022-01-26 18:51:53  40.750604   \n",
       "1          JC038      Essex Light Rail  2022-01-28 13:20:23  40.712774   \n",
       "2          JC038      Essex Light Rail  2022-01-10 20:00:37  40.712774   \n",
       "3          HB201  12 St & Sinatra Dr N  2022-01-26 07:55:22  40.750604   \n",
       "4          HB201  12 St & Sinatra Dr N  2022-01-13 18:45:43  40.750604   \n",
       "\n",
       "     end_lng  \n",
       "0 -74.024020  \n",
       "1 -74.036486  \n",
       "2 -74.036486  \n",
       "3 -74.024020  \n",
       "4 -74.024020  "
      ]
     },
     "execution_count": 63,
     "metadata": {},
     "output_type": "execute_result"
    }
   ],
   "source": [
    "# Contitue to store end station infomation\n",
    "Loglat_df2= tripdata_2022[['end_station_id',\"end_station_name\",'ended_at','end_lat',\"end_lng\"]]\n",
    "Loglat_df2=Loglat_df2.rename(columns={'end station id':\"station id\",'stoptime':\"time\",\"end station name\":\"Station Name\",'end station latitude':\"Station Lat\",\"end station longitude\":\"Station lon\"})\n",
    "Loglat_df2.head()\n"
   ]
  },
  {
   "cell_type": "code",
   "execution_count": 64,
   "metadata": {},
   "outputs": [
    {
     "data": {
      "text/plain": [
       "(895485, 5)"
      ]
     },
     "execution_count": 64,
     "metadata": {},
     "output_type": "execute_result"
    }
   ],
   "source": [
    "Loglat_df2.shape"
   ]
  },
  {
   "cell_type": "code",
   "execution_count": 65,
   "metadata": {},
   "outputs": [
    {
     "name": "stderr",
     "output_type": "stream",
     "text": [
      "C:\\Users\\phuon\\AppData\\Local\\Temp\\ipykernel_18396\\3646428955.py:1: FutureWarning: The frame.append method is deprecated and will be removed from pandas in a future version. Use pandas.concat instead.\n",
      "  Loglat_df = Loglat_df.append(Loglat_df2,ignore_index=True)\n"
     ]
    }
   ],
   "source": [
    "Loglat_df = Loglat_df.append(Loglat_df2,ignore_index=True)\n"
   ]
  },
  {
   "cell_type": "code",
   "execution_count": 66,
   "metadata": {},
   "outputs": [
    {
     "data": {
      "text/plain": [
       "(1790970, 10)"
      ]
     },
     "execution_count": 66,
     "metadata": {},
     "output_type": "execute_result"
    }
   ],
   "source": [
    "Loglat_df.shape"
   ]
  },
  {
   "cell_type": "code",
   "execution_count": 67,
   "metadata": {},
   "outputs": [],
   "source": [
    "Loglat_df.to_csv(\"./Resources/City_Officals_Long_lat.csv\",index=False)"
   ]
  },
  {
   "cell_type": "code",
   "execution_count": null,
   "metadata": {},
   "outputs": [],
   "source": []
  },
  {
   "cell_type": "code",
   "execution_count": null,
   "metadata": {},
   "outputs": [],
   "source": []
  }
 ],
 "metadata": {
  "kernelspec": {
   "display_name": "Python 3",
   "language": "python",
   "name": "python3"
  },
  "language_info": {
   "codemirror_mode": {
    "name": "ipython",
    "version": 3
   },
   "file_extension": ".py",
   "mimetype": "text/x-python",
   "name": "python",
   "nbconvert_exporter": "python",
   "pygments_lexer": "ipython3",
   "version": "3.10.9"
  }
 },
 "nbformat": 4,
 "nbformat_minor": 2
}
